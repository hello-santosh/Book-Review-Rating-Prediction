{
 "cells": [
  {
   "cell_type": "code",
   "execution_count": 33,
   "id": "4538eb77",
   "metadata": {},
   "outputs": [],
   "source": [
    "import numpy as np\n",
    "import pandas as pd\n",
    "\n",
    "from sklearn import metrics\n",
    "from keras.preprocessing.text import Tokenizer\n",
    "from tensorflow.keras.preprocessing.sequence import pad_sequences\n",
    "from keras.layers import Dense, Input, LSTM, Embedding, Dropout, Activation, SpatialDropout1D, GRU\n",
    "from keras.layers import Bidirectional, GlobalAveragePooling1D, GlobalMaxPooling1D, concatenate\n",
    "from keras.models import Model\n",
    "from keras.callbacks import EarlyStopping, ModelCheckpoint"
   ]
  },
  {
   "cell_type": "code",
   "execution_count": 18,
   "id": "a1105b42",
   "metadata": {},
   "outputs": [],
   "source": [
    "df_train = pd.read_csv('goodreads_train.csv')\n",
    "df_test = pd.read_csv('goodreads_test.csv')\n",
    "df_sub = pd.read_csv('goodreads_sample_submission.csv')\n",
    "\n",
    "# Delete dublicate reviews and review_id\n",
    "df_train.drop_duplicates(subset=[\"review_id\"], inplace=True, keep='first')\n",
    "df_train.drop_duplicates(subset=[\"review_text\"], inplace=True, keep='first')\n",
    "\n",
    "# Delete reviews with less than 5 letters.\n",
    "indexReviewText = df_train.loc[ df_train['review_text'].str.len() <= 5].index\n",
    "df_train.drop(indexReviewText , inplace=True)\n",
    "\n",
    "# # Delete needless columns\n",
    "df_train = df_train[['review_text','rating']]\n",
    "\n",
    "# Clean the review data which consists of word greater than 30\n",
    "get_word_length = lambda phrase: np.mean(list(map(len, phrase.split())))\n",
    "condition = df_train.review_text.apply(get_word_length) > 30\n",
    "index = df_train.index\n",
    "bad_word_indices = index[condition].tolist()\n",
    "df_train.drop(bad_word_indices,inplace=True)\n"
   ]
  },
  {
   "cell_type": "code",
   "execution_count": 21,
   "id": "662364be",
   "metadata": {},
   "outputs": [],
   "source": [
    "# one-hot-encode my ratings variable\n",
    "train_samp = pd.get_dummies(df_train, columns = ['rating'])\n",
    "test_samp = pd.get_dummies(df_test, columns = ['rating'])\n",
    "# the below test sample is used when we need get to create a output to submit in kaggle\n",
    "# test_samp = df_test[['review_text']]"
   ]
  },
  {
   "cell_type": "code",
   "execution_count": 22,
   "id": "cb13d175",
   "metadata": {},
   "outputs": [],
   "source": [
    "# GLoVe word vectors to get pretrained word embeddings\n",
    "embed_size = 300 \n",
    "# max number of unique words \n",
    "max_features = 30000\n",
    "# max number of words from review to use\n",
    "maxlen = 300\n",
    "\n",
    "# File path\n",
    "embedding_file = 'glove.840B.300d/glove.840B.300d.txt'\n",
    "\n",
    "# read in embeddings\n",
    "def get_coefs(word,*arr): \n",
    "    return word, np.asarray(arr, dtype='float32')\n",
    "\n",
    "embeddings_index = dict(get_coefs(*o.strip().split(' ')) for o in open(embedding_file, encoding=\"utf8\"))"
   ]
  },
  {
   "cell_type": "code",
   "execution_count": 23,
   "id": "db785305",
   "metadata": {},
   "outputs": [],
   "source": [
    "# get rating as array\n",
    "class_names = ['rating_0', 'rating_1', 'rating_2', 'rating_3', 'rating_4', 'rating_5']\n",
    "y = train_samp[class_names].values"
   ]
  },
  {
   "cell_type": "code",
   "execution_count": 24,
   "id": "20ced72e",
   "metadata": {},
   "outputs": [],
   "source": [
    "# data tokenizer\n",
    "tokenizer = Tokenizer(num_words=max_features)\n",
    "tokenizer.fit_on_texts(list(train_samp['review_text'].values))\n",
    "X_train = tokenizer.texts_to_sequences(train_samp['review_text'].values)\n",
    "X_test = tokenizer.texts_to_sequences(test_samp['review_text'].values)\n",
    "x_train = pad_sequences(X_train, maxlen = maxlen)\n",
    "x_test = pad_sequences(X_test, maxlen = maxlen)"
   ]
  },
  {
   "cell_type": "code",
   "execution_count": 25,
   "id": "4e9d5f08",
   "metadata": {},
   "outputs": [],
   "source": [
    "# read in embeddings\n",
    "word_index = tokenizer.word_index\n",
    "\n",
    "nb_words = min(max_features, len(word_index))\n",
    "# create a zeros matrix of the correct dimensions \n",
    "embedding_matrix = np.zeros((nb_words, embed_size))\n",
    "missed = []\n",
    "for word, i in word_index.items():\n",
    "    if i >= max_features: break\n",
    "    embedding_vector = embeddings_index.get(word)\n",
    "    if embedding_vector is not None:\n",
    "        embedding_matrix[i] = embedding_vector\n",
    "    else:\n",
    "        missed.append(word)"
   ]
  },
  {
   "cell_type": "code",
   "execution_count": 26,
   "id": "321341bb",
   "metadata": {},
   "outputs": [],
   "source": [
    "inp = Input(shape = (maxlen,))\n",
    "x = Embedding(max_features, embed_size, weights = [embedding_matrix], trainable = True)(inp)\n",
    "x = SpatialDropout1D(0.5)(x)\n",
    "x = Bidirectional(LSTM(40, return_sequences=True))(x)\n",
    "x = Bidirectional(GRU(40, return_sequences=True))(x)\n",
    "avg_pool = GlobalAveragePooling1D()(x)\n",
    "max_pool = GlobalMaxPooling1D()(x)\n",
    "conc = concatenate([avg_pool, max_pool])\n",
    "outc = Dense(24, activation='relu')(conc)\n",
    "outp = Dense(6, activation = 'sigmoid')(outc)\n",
    "\n",
    "model = Model(inputs = inp, outputs = outp)\n",
    "# patience is how many epochs to wait to see if val_loss will improve again.\n",
    "earlystop = EarlyStopping(monitor = 'val_loss', min_delta = 0, patience = 3)\n",
    "checkpoint = ModelCheckpoint(monitor = 'val_loss', save_best_only = True, filepath = 'yelp_lstm_gru_weights.hdf5')\n",
    "model.compile(loss = 'binary_crossentropy', optimizer = 'adam', metrics = ['accuracy'])"
   ]
  },
  {
   "cell_type": "code",
   "execution_count": 27,
   "id": "3a18f774",
   "metadata": {},
   "outputs": [
    {
     "name": "stdout",
     "output_type": "stream",
     "text": [
      "Epoch 1/20\n",
      "4065/4065 [==============================] - 392s 93ms/step - loss: 0.3071 - accuracy: 0.5305 - val_loss: 0.2780 - val_accuracy: 0.5821\n",
      "Epoch 2/20\n",
      "4065/4065 [==============================] - 388s 95ms/step - loss: 0.2723 - accuracy: 0.5966 - val_loss: 0.2692 - val_accuracy: 0.5983\n",
      "Epoch 3/20\n",
      "4065/4065 [==============================] - 385s 95ms/step - loss: 0.2598 - accuracy: 0.6219 - val_loss: 0.2677 - val_accuracy: 0.6081\n",
      "Epoch 4/20\n",
      "4065/4065 [==============================] - 377s 93ms/step - loss: 0.2506 - accuracy: 0.6426 - val_loss: 0.2696 - val_accuracy: 0.6023\n",
      "Epoch 5/20\n",
      "4065/4065 [==============================] - 374s 92ms/step - loss: 0.2419 - accuracy: 0.6590 - val_loss: 0.2714 - val_accuracy: 0.6029\n",
      "Epoch 6/20\n",
      "4065/4065 [==============================] - 378s 93ms/step - loss: 0.2341 - accuracy: 0.6753 - val_loss: 0.2772 - val_accuracy: 0.6003\n"
     ]
    }
   ],
   "source": [
    "hist = model.fit(x_train, y, batch_size = 62, epochs = 20, validation_split = .1,\n",
    "          callbacks=[earlystop, checkpoint])"
   ]
  },
  {
   "cell_type": "code",
   "execution_count": 29,
   "id": "59d09112",
   "metadata": {},
   "outputs": [
    {
     "data": {
      "image/png": "[encoded data removed]",
      "text/plain": [
       "<Figure size 640x480 with 1 Axes>"
      ]
     },
     "metadata": {},
     "output_type": "display_data"
    }
   ],
   "source": [
    "import matplotlib.pyplot as plt\n",
    "\n",
    "plt.plot(hist.history['loss'])\n",
    "plt.plot(hist.history['val_loss'])\n",
    "plt.title('Bidirectional LSTM & GRU')\n",
    "plt.ylabel('loss')\n",
    "plt.xlabel('epoch')\n",
    "plt.legend(['train', 'test'], loc='upper left')\n",
    "plt.show()"
   ]
  },
  {
   "cell_type": "code",
   "execution_count": 32,
   "id": "e90d9d0c",
   "metadata": {},
   "outputs": [
    {
     "name": "stdout",
     "output_type": "stream",
     "text": [
      "Model: \"model\"\n",
      "__________________________________________________________________________________________________\n",
      " Layer (type)                   Output Shape         Param #     Connected to                     \n",
      "==================================================================================================\n",
      " input_1 (InputLayer)           [(None, 300)]        0           []                               \n",
      "                                                                                                  \n",
      " embedding (Embedding)          (None, 300, 300)     9000000     ['input_1[0][0]']                \n",
      "                                                                                                  \n",
      " spatial_dropout1d (SpatialDrop  (None, 300, 300)    0           ['embedding[0][0]']              \n",
      " out1D)                                                                                           \n",
      "                                                                                                  \n",
      " bidirectional (Bidirectional)  (None, 300, 80)      109120      ['spatial_dropout1d[0][0]']      \n",
      "                                                                                                  \n",
      " bidirectional_1 (Bidirectional  (None, 300, 80)     29280       ['bidirectional[0][0]']          \n",
      " )                                                                                                \n",
      "                                                                                                  \n",
      " global_average_pooling1d (Glob  (None, 80)          0           ['bidirectional_1[0][0]']        \n",
      " alAveragePooling1D)                                                                              \n",
      "                                                                                                  \n",
      " global_max_pooling1d (GlobalMa  (None, 80)          0           ['bidirectional_1[0][0]']        \n",
      " xPooling1D)                                                                                      \n",
      "                                                                                                  \n",
      " concatenate (Concatenate)      (None, 160)          0           ['global_average_pooling1d[0][0]'\n",
      "                                                                 , 'global_max_pooling1d[0][0]']  \n",
      "                                                                                                  \n",
      " dense (Dense)                  (None, 24)           3864        ['concatenate[0][0]']            \n",
      "                                                                                                  \n",
      " dense_1 (Dense)                (None, 6)            150         ['dense[0][0]']                  \n",
      "                                                                                                  \n",
      "==================================================================================================\n",
      "Total params: 9,142,414\n",
      "Trainable params: 9,142,414\n",
      "Non-trainable params: 0\n",
      "__________________________________________________________________________________________________\n"
     ]
    }
   ],
   "source": [
    "model.summary()"
   ]
  },
  {
   "cell_type": "code",
   "execution_count": 14,
   "id": "f7105830",
   "metadata": {},
   "outputs": [
    {
     "name": "stdout",
     "output_type": "stream",
     "text": [
      "69/69 [==============================] - 5s 71ms/step\n"
     ]
    }
   ],
   "source": [
    "y_test = model.predict([x_test], batch_size=1024,verbose=1)\n"
   ]
  },
  {
   "cell_type": "code",
   "execution_count": 12,
   "id": "64aa963a",
   "metadata": {},
   "outputs": [],
   "source": [
    "# Save the prediction in csv format to submit in kaggle\n",
    "# rating_pred = []\n",
    "# for ratings in y_test:\n",
    "#     result = np.where(ratings == np.amax(ratings))\n",
    "#     rating_pred.append(result[0][0])\n",
    "\n",
    "# df_sub.rating = rating_pred\n",
    "# df_sub.to_csv(\"submission.csv\", index=False)"
   ]
  },
  {
   "cell_type": "code",
   "execution_count": 15,
   "id": "3583e134",
   "metadata": {},
   "outputs": [
    {
     "name": "stdout",
     "output_type": "stream",
     "text": [
      "69/69 [==============================] - 5s 69ms/step - loss: 0.2770 - accuracy: 0.5984\n"
     ]
    },
    {
     "data": {
      "text/plain": [
       "[0.2769937217235565, 0.5984428524971008]"
      ]
     },
     "execution_count": 15,
     "metadata": {},
     "output_type": "execute_result"
    }
   ],
   "source": [
    "model.evaluate(x_test, test_samp[class_names].values, verbose = 1, batch_size=1024)\n"
   ]
  },
  {
   "cell_type": "code",
   "execution_count": 16,
   "id": "a6d43cb6",
   "metadata": {},
   "outputs": [
    {
     "name": "stdout",
     "output_type": "stream",
     "text": [
      "              precision    recall  f1-score   support\n",
      "\n",
      "           0       0.56      0.35      0.43      2336\n",
      "           1       0.46      0.48      0.47      2132\n",
      "           2       0.52      0.43      0.47      5748\n",
      "           3       0.56      0.57      0.56     14557\n",
      "           4       0.59      0.59      0.59     24572\n",
      "           5       0.66      0.72      0.69     20655\n",
      "\n",
      "    accuracy                           0.60     70000\n",
      "   macro avg       0.56      0.52      0.54     70000\n",
      "weighted avg       0.60      0.60      0.60     70000\n",
      "\n"
     ]
    }
   ],
   "source": [
    "# Quality metrics\n",
    "v = metrics.classification_report(np.argmax(test_samp[class_names].values, axis = 1),np.argmax(y_test, axis = 1))\n",
    "print(v)"
   ]
  },
  {
   "cell_type": "code",
   "execution_count": null,
   "id": "0d6703c6",
   "metadata": {},
   "outputs": [],
   "source": []
  }
 ],
 "metadata": {
  "kernelspec": {
   "display_name": "Python 3 (ipykernel)",
   "language": "python",
   "name": "python3"
  },
  "language_info": {
   "codemirror_mode": {
    "name": "ipython",
    "version": 3
   },
   "file_extension": ".py",
   "mimetype": "text/x-python",
   "name": "python",
   "nbconvert_exporter": "python",
   "pygments_lexer": "ipython3",
   "version": "3.9.13"
  }
 },
 "nbformat": 4,
 "nbformat_minor": 5
}
